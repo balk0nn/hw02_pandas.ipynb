{
 "cells": [
  {
   "cell_type": "markdown",
   "metadata": {
    "_uuid": "21c25e4f8bb31570029fd6b069131a5d00f84cf1"
   },
   "source": [
    "# Домашнее задание 2 (5 баллов).\n",
    "\n",
    "Все задания ниже имеют равный вес (5/16)."
   ]
  },
  {
   "cell_type": "code",
   "execution_count": 183,
   "metadata": {
    "_uuid": "568eb2d31004b87d22e119112ae01a1e75105f1d"
   },
   "outputs": [],
   "source": [
    "import pandas as pd"
   ]
  },
  {
   "cell_type": "markdown",
   "metadata": {},
   "source": [
    "#### Описание данных\n",
    "\n",
    "В папке Data находится информация о студентах. Всего 10 групп студентов. Файлы делятся на две категории:\n",
    "    * Students_info_i - информация о студентах из группы i\n",
    "    * Students_marks_i - оценки студентов из группы i за экзамены"
   ]
  },
  {
   "cell_type": "markdown",
   "metadata": {},
   "source": [
    "### Одно из важных достоинств pandas $-$ это удобные методы реляционного взаимодействия с данными, аналогичные, например, возможностям SQL для слияния и конкатенации таблиц: merge, join, concat. Наличие готовых методов позволяет не реализовывать самостоятельно поэлементную обработку данных и оперировать сразу целыми таблицами данных.\n",
    "\n",
    "Подробно об этих методах посмотрите тут: https://www.kaggle.com/residentmario/renaming-and-combining#Combining"
   ]
  },
  {
   "cell_type": "markdown",
   "metadata": {},
   "source": [
    "#### Задание 1. Соберите всю информацию о студентах в одну таблицу df. В получившейся таблице должна быть информация и оценки всех студентов из всех групп. Напечатайте несколько строк таблицы для демонстрации результата.¶"
   ]
  },
  {
   "cell_type": "code",
   "execution_count": 184,
   "metadata": {},
   "outputs": [],
   "source": [
    "Data = pd.concat([\n",
    "                          pd.read_csv(\"Data/Students_info_0.csv\"),\n",
    "                          pd.read_csv(\"Data/Students_info_1.csv\"),\n",
    "                          pd.read_csv(\"Data/Students_info_2.csv\"),\n",
    "                          pd.read_csv(\"Data/Students_info_3.csv\"),\n",
    "                          pd.read_csv(\"Data/Students_info_4.csv\"),\n",
    "                          pd.read_csv(\"Data/Students_info_5.csv\"),\n",
    "                          pd.read_csv(\"Data/Students_info_6.csv\"),\n",
    "                          pd.read_csv(\"Data/Students_info_7.csv\"),\n",
    "                          pd.read_csv(\"Data/Students_info_8.csv\"),\n",
    "                          pd.read_csv(\"Data/Students_info_9.csv\")\n",
    "                          ])\n",
    "\n",
    "StudentsMarks = pd.concat([\n",
    "                         pd.read_csv(\"Data/Students_marks_0.csv\"),\n",
    "                         pd.read_csv(\"Data/Students_marks_1.csv\"),\n",
    "                         pd.read_csv(\"Data/Students_marks_2.csv\"),\n",
    "                         pd.read_csv(\"Data/Students_marks_3.csv\"),\n",
    "                         pd.read_csv(\"Data/Students_marks_4.csv\"),\n",
    "                         pd.read_csv(\"Data/Students_marks_5.csv\"),\n",
    "                         pd.read_csv(\"Data/Students_marks_6.csv\"),\n",
    "                         pd.read_csv(\"Data/Students_marks_7.csv\"),\n",
    "                         pd.read_csv(\"Data/Students_marks_8.csv\"),\n",
    "                         pd.read_csv(\"Data/Students_marks_9.csv\"),\n",
    "                         ])\n",
    "\n",
    "Data = Data.merge(StudentsMarks)"
   ]
  },
  {
   "cell_type": "markdown",
   "source": [],
   "metadata": {
    "collapsed": false
   }
  },
  {
   "cell_type": "markdown",
   "source": [],
   "metadata": {
    "collapsed": false
   }
  },
  {
   "cell_type": "markdown",
   "metadata": {
    "_uuid": "8524af4cbd2f7b7810e8a3095a74c9fe1df7eafa"
   },
   "source": [
    "#### Задание 2. Удалите столбец index у полученной таблицы. Напечатайте первые 10 строк таблицы."
   ]
  },
  {
   "cell_type": "markdown",
   "source": [],
   "metadata": {
    "collapsed": false
   }
  },
  {
   "cell_type": "code",
   "execution_count": 185,
   "metadata": {
    "_uuid": "fe62eee87b9b94ab923f57b55eaf0554612aa9e9"
   },
   "outputs": [
    {
     "data": {
      "text/plain": "       gender race/ethnicity parental level of education         lunch  \\\nindex                                                                    \n0      female        group B           bachelor's degree      standard   \n1      female        group C                some college      standard   \n2      female        group B             master's degree      standard   \n3        male        group A          associate's degree  free/reduced   \n4        male        group C                some college      standard   \n...       ...            ...                         ...           ...   \n995    female        group E             master's degree      standard   \n996      male        group C                 high school  free/reduced   \n997    female        group C                 high school  free/reduced   \n998    female        group D                some college      standard   \n999    female        group D                some college  free/reduced   \n\n      test preparation course    group  math score  reading score  \\\nindex                                                               \n0                        none   group1          72             72   \n1                   completed   group1          69             90   \n2                        none   group1          90             95   \n3                        none   group1          47             57   \n4                        none   group1          76             78   \n...                       ...      ...         ...            ...   \n995                 completed  group10          88             99   \n996                      none  group10          62             55   \n997                 completed  group10          59             71   \n998                 completed  group10          68             78   \n999                      none  group10          77             86   \n\n       writing score  \nindex                 \n0                 74  \n1                 88  \n2                 93  \n3                 44  \n4                 75  \n...              ...  \n995               95  \n996               55  \n997               65  \n998               77  \n999               86  \n\n[1000 rows x 9 columns]",
      "text/html": "<div>\n<style scoped>\n    .dataframe tbody tr th:only-of-type {\n        vertical-align: middle;\n    }\n\n    .dataframe tbody tr th {\n        vertical-align: top;\n    }\n\n    .dataframe thead th {\n        text-align: right;\n    }\n</style>\n<table border=\"1\" class=\"dataframe\">\n  <thead>\n    <tr style=\"text-align: right;\">\n      <th></th>\n      <th>gender</th>\n      <th>race/ethnicity</th>\n      <th>parental level of education</th>\n      <th>lunch</th>\n      <th>test preparation course</th>\n      <th>group</th>\n      <th>math score</th>\n      <th>reading score</th>\n      <th>writing score</th>\n    </tr>\n    <tr>\n      <th>index</th>\n      <th></th>\n      <th></th>\n      <th></th>\n      <th></th>\n      <th></th>\n      <th></th>\n      <th></th>\n      <th></th>\n      <th></th>\n    </tr>\n  </thead>\n  <tbody>\n    <tr>\n      <th>0</th>\n      <td>female</td>\n      <td>group B</td>\n      <td>bachelor's degree</td>\n      <td>standard</td>\n      <td>none</td>\n      <td>group1</td>\n      <td>72</td>\n      <td>72</td>\n      <td>74</td>\n    </tr>\n    <tr>\n      <th>1</th>\n      <td>female</td>\n      <td>group C</td>\n      <td>some college</td>\n      <td>standard</td>\n      <td>completed</td>\n      <td>group1</td>\n      <td>69</td>\n      <td>90</td>\n      <td>88</td>\n    </tr>\n    <tr>\n      <th>2</th>\n      <td>female</td>\n      <td>group B</td>\n      <td>master's degree</td>\n      <td>standard</td>\n      <td>none</td>\n      <td>group1</td>\n      <td>90</td>\n      <td>95</td>\n      <td>93</td>\n    </tr>\n    <tr>\n      <th>3</th>\n      <td>male</td>\n      <td>group A</td>\n      <td>associate's degree</td>\n      <td>free/reduced</td>\n      <td>none</td>\n      <td>group1</td>\n      <td>47</td>\n      <td>57</td>\n      <td>44</td>\n    </tr>\n    <tr>\n      <th>4</th>\n      <td>male</td>\n      <td>group C</td>\n      <td>some college</td>\n      <td>standard</td>\n      <td>none</td>\n      <td>group1</td>\n      <td>76</td>\n      <td>78</td>\n      <td>75</td>\n    </tr>\n    <tr>\n      <th>...</th>\n      <td>...</td>\n      <td>...</td>\n      <td>...</td>\n      <td>...</td>\n      <td>...</td>\n      <td>...</td>\n      <td>...</td>\n      <td>...</td>\n      <td>...</td>\n    </tr>\n    <tr>\n      <th>995</th>\n      <td>female</td>\n      <td>group E</td>\n      <td>master's degree</td>\n      <td>standard</td>\n      <td>completed</td>\n      <td>group10</td>\n      <td>88</td>\n      <td>99</td>\n      <td>95</td>\n    </tr>\n    <tr>\n      <th>996</th>\n      <td>male</td>\n      <td>group C</td>\n      <td>high school</td>\n      <td>free/reduced</td>\n      <td>none</td>\n      <td>group10</td>\n      <td>62</td>\n      <td>55</td>\n      <td>55</td>\n    </tr>\n    <tr>\n      <th>997</th>\n      <td>female</td>\n      <td>group C</td>\n      <td>high school</td>\n      <td>free/reduced</td>\n      <td>completed</td>\n      <td>group10</td>\n      <td>59</td>\n      <td>71</td>\n      <td>65</td>\n    </tr>\n    <tr>\n      <th>998</th>\n      <td>female</td>\n      <td>group D</td>\n      <td>some college</td>\n      <td>standard</td>\n      <td>completed</td>\n      <td>group10</td>\n      <td>68</td>\n      <td>78</td>\n      <td>77</td>\n    </tr>\n    <tr>\n      <th>999</th>\n      <td>female</td>\n      <td>group D</td>\n      <td>some college</td>\n      <td>free/reduced</td>\n      <td>none</td>\n      <td>group10</td>\n      <td>77</td>\n      <td>86</td>\n      <td>86</td>\n    </tr>\n  </tbody>\n</table>\n<p>1000 rows × 9 columns</p>\n</div>"
     },
     "execution_count": 185,
     "metadata": {},
     "output_type": "execute_result"
    }
   ],
   "source": [
    "Data.set_index('index')"
   ]
  },
  {
   "cell_type": "code",
   "execution_count": 186,
   "outputs": [],
   "source": [
    "Data.__delitem__('index')"
   ],
   "metadata": {
    "collapsed": false,
    "pycharm": {
     "name": "#%%\n"
    }
   }
  },
  {
   "cell_type": "code",
   "execution_count": 187,
   "outputs": [
    {
     "data": {
      "text/plain": "   gender race/ethnicity parental level of education         lunch  \\\n0  female        group B           bachelor's degree      standard   \n1  female        group C                some college      standard   \n2  female        group B             master's degree      standard   \n3    male        group A          associate's degree  free/reduced   \n4    male        group C                some college      standard   \n5  female        group B          associate's degree      standard   \n6  female        group B                some college      standard   \n7    male        group B                some college  free/reduced   \n8    male        group D                 high school  free/reduced   \n9  female        group B                 high school  free/reduced   \n\n  test preparation course   group  math score  reading score  writing score  \n0                    none  group1          72             72             74  \n1               completed  group1          69             90             88  \n2                    none  group1          90             95             93  \n3                    none  group1          47             57             44  \n4                    none  group1          76             78             75  \n5                    none  group1          71             83             78  \n6               completed  group1          88             95             92  \n7                    none  group1          40             43             39  \n8               completed  group1          64             64             67  \n9                    none  group1          38             60             50  ",
      "text/html": "<div>\n<style scoped>\n    .dataframe tbody tr th:only-of-type {\n        vertical-align: middle;\n    }\n\n    .dataframe tbody tr th {\n        vertical-align: top;\n    }\n\n    .dataframe thead th {\n        text-align: right;\n    }\n</style>\n<table border=\"1\" class=\"dataframe\">\n  <thead>\n    <tr style=\"text-align: right;\">\n      <th></th>\n      <th>gender</th>\n      <th>race/ethnicity</th>\n      <th>parental level of education</th>\n      <th>lunch</th>\n      <th>test preparation course</th>\n      <th>group</th>\n      <th>math score</th>\n      <th>reading score</th>\n      <th>writing score</th>\n    </tr>\n  </thead>\n  <tbody>\n    <tr>\n      <th>0</th>\n      <td>female</td>\n      <td>group B</td>\n      <td>bachelor's degree</td>\n      <td>standard</td>\n      <td>none</td>\n      <td>group1</td>\n      <td>72</td>\n      <td>72</td>\n      <td>74</td>\n    </tr>\n    <tr>\n      <th>1</th>\n      <td>female</td>\n      <td>group C</td>\n      <td>some college</td>\n      <td>standard</td>\n      <td>completed</td>\n      <td>group1</td>\n      <td>69</td>\n      <td>90</td>\n      <td>88</td>\n    </tr>\n    <tr>\n      <th>2</th>\n      <td>female</td>\n      <td>group B</td>\n      <td>master's degree</td>\n      <td>standard</td>\n      <td>none</td>\n      <td>group1</td>\n      <td>90</td>\n      <td>95</td>\n      <td>93</td>\n    </tr>\n    <tr>\n      <th>3</th>\n      <td>male</td>\n      <td>group A</td>\n      <td>associate's degree</td>\n      <td>free/reduced</td>\n      <td>none</td>\n      <td>group1</td>\n      <td>47</td>\n      <td>57</td>\n      <td>44</td>\n    </tr>\n    <tr>\n      <th>4</th>\n      <td>male</td>\n      <td>group C</td>\n      <td>some college</td>\n      <td>standard</td>\n      <td>none</td>\n      <td>group1</td>\n      <td>76</td>\n      <td>78</td>\n      <td>75</td>\n    </tr>\n    <tr>\n      <th>5</th>\n      <td>female</td>\n      <td>group B</td>\n      <td>associate's degree</td>\n      <td>standard</td>\n      <td>none</td>\n      <td>group1</td>\n      <td>71</td>\n      <td>83</td>\n      <td>78</td>\n    </tr>\n    <tr>\n      <th>6</th>\n      <td>female</td>\n      <td>group B</td>\n      <td>some college</td>\n      <td>standard</td>\n      <td>completed</td>\n      <td>group1</td>\n      <td>88</td>\n      <td>95</td>\n      <td>92</td>\n    </tr>\n    <tr>\n      <th>7</th>\n      <td>male</td>\n      <td>group B</td>\n      <td>some college</td>\n      <td>free/reduced</td>\n      <td>none</td>\n      <td>group1</td>\n      <td>40</td>\n      <td>43</td>\n      <td>39</td>\n    </tr>\n    <tr>\n      <th>8</th>\n      <td>male</td>\n      <td>group D</td>\n      <td>high school</td>\n      <td>free/reduced</td>\n      <td>completed</td>\n      <td>group1</td>\n      <td>64</td>\n      <td>64</td>\n      <td>67</td>\n    </tr>\n    <tr>\n      <th>9</th>\n      <td>female</td>\n      <td>group B</td>\n      <td>high school</td>\n      <td>free/reduced</td>\n      <td>none</td>\n      <td>group1</td>\n      <td>38</td>\n      <td>60</td>\n      <td>50</td>\n    </tr>\n  </tbody>\n</table>\n</div>"
     },
     "execution_count": 187,
     "metadata": {},
     "output_type": "execute_result"
    }
   ],
   "source": [
    "Data[0:10]"
   ],
   "metadata": {
    "collapsed": false,
    "pycharm": {
     "name": "#%%\n"
    }
   }
  },
  {
   "cell_type": "markdown",
   "metadata": {
    "_uuid": "5fcd622942b7ecfc318934c6a245d3bb3bf01e84"
   },
   "source": [
    "#### Задание 3. Выведите на экран размеры полученной таблицы"
   ]
  },
  {
   "cell_type": "code",
   "execution_count": 188,
   "metadata": {
    "_uuid": "16281cd7b4e941ebed8ca2e1b42f62f55d838684"
   },
   "outputs": [
    {
     "data": {
      "text/plain": "(1000, 9)"
     },
     "execution_count": 188,
     "metadata": {},
     "output_type": "execute_result"
    }
   ],
   "source": [
    "Data.shape"
   ]
  },
  {
   "cell_type": "markdown",
   "metadata": {
    "_uuid": "fe8e3d58d29ca25dbbcf001392377643e6ff9a36"
   },
   "source": [
    "#### Задание 4. Выведите на экран статистические характеристики числовых столбцов таблицы (минимум, максимум, среднее значение, стандартное отклонение)"
   ]
  },
  {
   "cell_type": "code",
   "execution_count": 189,
   "metadata": {
    "_uuid": "e3d4bb80d2c4251fe517c24fcf08c5ff2d67b8aa"
   },
   "outputs": [
    {
     "data": {
      "text/plain": "      math score  reading score  writing score\nmean    66.08900      69.169000      68.054000\nstd     15.16308      14.600192      15.195657\nmin      0.00000      17.000000      10.000000\nmax    100.00000     100.000000     100.000000",
      "text/html": "<div>\n<style scoped>\n    .dataframe tbody tr th:only-of-type {\n        vertical-align: middle;\n    }\n\n    .dataframe tbody tr th {\n        vertical-align: top;\n    }\n\n    .dataframe thead th {\n        text-align: right;\n    }\n</style>\n<table border=\"1\" class=\"dataframe\">\n  <thead>\n    <tr style=\"text-align: right;\">\n      <th></th>\n      <th>math score</th>\n      <th>reading score</th>\n      <th>writing score</th>\n    </tr>\n  </thead>\n  <tbody>\n    <tr>\n      <th>mean</th>\n      <td>66.08900</td>\n      <td>69.169000</td>\n      <td>68.054000</td>\n    </tr>\n    <tr>\n      <th>std</th>\n      <td>15.16308</td>\n      <td>14.600192</td>\n      <td>15.195657</td>\n    </tr>\n    <tr>\n      <th>min</th>\n      <td>0.00000</td>\n      <td>17.000000</td>\n      <td>10.000000</td>\n    </tr>\n    <tr>\n      <th>max</th>\n      <td>100.00000</td>\n      <td>100.000000</td>\n      <td>100.000000</td>\n    </tr>\n  </tbody>\n</table>\n</div>"
     },
     "execution_count": 189,
     "metadata": {},
     "output_type": "execute_result"
    }
   ],
   "source": [
    "Data.describe().drop(['count','25%', '50%', '75%'])"
   ]
  },
  {
   "cell_type": "markdown",
   "metadata": {
    "_uuid": "b26b7de83485ecb3b8a0a7865a596e24527c7b2f"
   },
   "source": [
    "#### Задание 5. Проверьте, есть ли в таблице пропущенные значения"
   ]
  },
  {
   "cell_type": "code",
   "execution_count": 190,
   "metadata": {
    "_uuid": "4eac3f8f83d07c6e58ad1576fe0e773f37034a2f"
   },
   "outputs": [
    {
     "data": {
      "text/plain": "       gender race/ethnicity parental level of education lunch  \\\ncount    1000           1000                        1000  1000   \nunique      1              1                           1     1   \ntop      True           True                        True  True   \nfreq     1000           1000                        1000  1000   \n\n       test preparation course group math score reading score writing score  \ncount                     1000  1000       1000          1000          1000  \nunique                       1     1          1             1             1  \ntop                       True  True       True          True          True  \nfreq                      1000  1000       1000          1000          1000  ",
      "text/html": "<div>\n<style scoped>\n    .dataframe tbody tr th:only-of-type {\n        vertical-align: middle;\n    }\n\n    .dataframe tbody tr th {\n        vertical-align: top;\n    }\n\n    .dataframe thead th {\n        text-align: right;\n    }\n</style>\n<table border=\"1\" class=\"dataframe\">\n  <thead>\n    <tr style=\"text-align: right;\">\n      <th></th>\n      <th>gender</th>\n      <th>race/ethnicity</th>\n      <th>parental level of education</th>\n      <th>lunch</th>\n      <th>test preparation course</th>\n      <th>group</th>\n      <th>math score</th>\n      <th>reading score</th>\n      <th>writing score</th>\n    </tr>\n  </thead>\n  <tbody>\n    <tr>\n      <th>count</th>\n      <td>1000</td>\n      <td>1000</td>\n      <td>1000</td>\n      <td>1000</td>\n      <td>1000</td>\n      <td>1000</td>\n      <td>1000</td>\n      <td>1000</td>\n      <td>1000</td>\n    </tr>\n    <tr>\n      <th>unique</th>\n      <td>1</td>\n      <td>1</td>\n      <td>1</td>\n      <td>1</td>\n      <td>1</td>\n      <td>1</td>\n      <td>1</td>\n      <td>1</td>\n      <td>1</td>\n    </tr>\n    <tr>\n      <th>top</th>\n      <td>True</td>\n      <td>True</td>\n      <td>True</td>\n      <td>True</td>\n      <td>True</td>\n      <td>True</td>\n      <td>True</td>\n      <td>True</td>\n      <td>True</td>\n    </tr>\n    <tr>\n      <th>freq</th>\n      <td>1000</td>\n      <td>1000</td>\n      <td>1000</td>\n      <td>1000</td>\n      <td>1000</td>\n      <td>1000</td>\n      <td>1000</td>\n      <td>1000</td>\n      <td>1000</td>\n    </tr>\n  </tbody>\n</table>\n</div>"
     },
     "execution_count": 190,
     "metadata": {},
     "output_type": "execute_result"
    }
   ],
   "source": [
    "Data.notnull().describe()"
   ]
  },
  {
   "cell_type": "markdown",
   "metadata": {},
   "source": [
    "#### Задание 6. Выведите на экран средние баллы студентов по каждому предмету (math, reading, writing)"
   ]
  },
  {
   "cell_type": "code",
   "execution_count": 191,
   "metadata": {},
   "outputs": [
    {
     "data": {
      "text/plain": "math score       66.089\nreading score    69.169\nwriting score    68.054\ndtype: float64"
     },
     "execution_count": 191,
     "metadata": {},
     "output_type": "execute_result"
    }
   ],
   "source": [
    "Data[['math score','reading score', 'writing score']].mean()"
   ]
  },
  {
   "cell_type": "markdown",
   "metadata": {},
   "source": [
    "**Задание 7. Как зависят оценки от того, проходил ли студент курс для подготовки к сдаче экзамена (test preparation course)? Выведите на экран для каждого предмета в отдельности средний балл студентов, проходивших курс для подготовки к экзамену и не проходивших курс.**"
   ]
  },
  {
   "cell_type": "code",
   "execution_count": 192,
   "metadata": {},
   "outputs": [
    {
     "data": {
      "text/plain": "math score       69.695531\nreading score    73.893855\nwriting score    74.418994\ndtype: float64"
     },
     "execution_count": 192,
     "metadata": {},
     "output_type": "execute_result"
    }
   ],
   "source": [
    "Data[Data['test preparation course'] == 'completed'][['math score', 'reading score', 'writing score']].mean()"
   ]
  },
  {
   "cell_type": "code",
   "execution_count": 193,
   "outputs": [
    {
     "data": {
      "text/plain": "math score       64.077882\nreading score    66.534268\nwriting score    64.504673\ndtype: float64"
     },
     "execution_count": 193,
     "metadata": {},
     "output_type": "execute_result"
    }
   ],
   "source": [
    "Data[Data['test preparation course'] == 'none'][['math score', 'reading score', 'writing score']].mean()"
   ],
   "metadata": {
    "collapsed": false,
    "pycharm": {
     "name": "#%%\n"
    }
   }
  },
  {
   "cell_type": "code",
   "execution_count": 194,
   "outputs": [
    {
     "data": {
      "text/plain": "math score       5.617649\nreading score    7.359587\nwriting score    9.914322\ndtype: float64"
     },
     "execution_count": 194,
     "metadata": {},
     "output_type": "execute_result"
    }
   ],
   "source": [
    "Data[Data['test preparation course'] == 'completed'][['math score', 'reading score', 'writing score']].mean() - Data[Data['test preparation course'] == 'none'][['math score', 'reading score', 'writing score']].mean()"
   ],
   "metadata": {
    "collapsed": false,
    "pycharm": {
     "name": "#%%\n"
    }
   }
  },
  {
   "cell_type": "markdown",
   "source": [
    "Средний балл студентов прошедших курс подготовки выше по всем предметам\n",
    "\n"
   ],
   "metadata": {
    "collapsed": false
   }
  },
  {
   "cell_type": "markdown",
   "source": [
    "**Задание 8. Выведите на экран все различные значения из столбца lunch.**"
   ],
   "metadata": {
    "collapsed": false,
    "pycharm": {
     "name": "#%% md\n"
    }
   }
  },
  {
   "cell_type": "code",
   "execution_count": 195,
   "metadata": {},
   "outputs": [
    {
     "data": {
      "text/plain": "array(['standard', 'free/reduced'], dtype=object)"
     },
     "execution_count": 195,
     "metadata": {},
     "output_type": "execute_result"
    }
   ],
   "source": [
    "Data['lunch'].unique()"
   ]
  },
  {
   "cell_type": "markdown",
   "metadata": {},
   "source": [
    "**Задание 9. Переименуйте колонку \"parental level of education\" в \"education\", а \"test preparation course\" в \"test preparation\" с помощью метода pandas rename**\n",
    "https://pandas.pydata.org/pandas-docs/stable/reference/api/pandas.DataFrame.rename.html"
   ]
  },
  {
   "cell_type": "code",
   "execution_count": 196,
   "metadata": {},
   "outputs": [
    {
     "data": {
      "text/plain": "     gender race/ethnicity           education         lunch test preparation  \\\n0    female        group B   bachelor's degree      standard             none   \n1    female        group C        some college      standard        completed   \n2    female        group B     master's degree      standard             none   \n3      male        group A  associate's degree  free/reduced             none   \n4      male        group C        some college      standard             none   \n..      ...            ...                 ...           ...              ...   \n995  female        group E     master's degree      standard        completed   \n996    male        group C         high school  free/reduced             none   \n997  female        group C         high school  free/reduced        completed   \n998  female        group D        some college      standard        completed   \n999  female        group D        some college  free/reduced             none   \n\n       group  math score  reading score  writing score  \n0     group1          72             72             74  \n1     group1          69             90             88  \n2     group1          90             95             93  \n3     group1          47             57             44  \n4     group1          76             78             75  \n..       ...         ...            ...            ...  \n995  group10          88             99             95  \n996  group10          62             55             55  \n997  group10          59             71             65  \n998  group10          68             78             77  \n999  group10          77             86             86  \n\n[1000 rows x 9 columns]",
      "text/html": "<div>\n<style scoped>\n    .dataframe tbody tr th:only-of-type {\n        vertical-align: middle;\n    }\n\n    .dataframe tbody tr th {\n        vertical-align: top;\n    }\n\n    .dataframe thead th {\n        text-align: right;\n    }\n</style>\n<table border=\"1\" class=\"dataframe\">\n  <thead>\n    <tr style=\"text-align: right;\">\n      <th></th>\n      <th>gender</th>\n      <th>race/ethnicity</th>\n      <th>education</th>\n      <th>lunch</th>\n      <th>test preparation</th>\n      <th>group</th>\n      <th>math score</th>\n      <th>reading score</th>\n      <th>writing score</th>\n    </tr>\n  </thead>\n  <tbody>\n    <tr>\n      <th>0</th>\n      <td>female</td>\n      <td>group B</td>\n      <td>bachelor's degree</td>\n      <td>standard</td>\n      <td>none</td>\n      <td>group1</td>\n      <td>72</td>\n      <td>72</td>\n      <td>74</td>\n    </tr>\n    <tr>\n      <th>1</th>\n      <td>female</td>\n      <td>group C</td>\n      <td>some college</td>\n      <td>standard</td>\n      <td>completed</td>\n      <td>group1</td>\n      <td>69</td>\n      <td>90</td>\n      <td>88</td>\n    </tr>\n    <tr>\n      <th>2</th>\n      <td>female</td>\n      <td>group B</td>\n      <td>master's degree</td>\n      <td>standard</td>\n      <td>none</td>\n      <td>group1</td>\n      <td>90</td>\n      <td>95</td>\n      <td>93</td>\n    </tr>\n    <tr>\n      <th>3</th>\n      <td>male</td>\n      <td>group A</td>\n      <td>associate's degree</td>\n      <td>free/reduced</td>\n      <td>none</td>\n      <td>group1</td>\n      <td>47</td>\n      <td>57</td>\n      <td>44</td>\n    </tr>\n    <tr>\n      <th>4</th>\n      <td>male</td>\n      <td>group C</td>\n      <td>some college</td>\n      <td>standard</td>\n      <td>none</td>\n      <td>group1</td>\n      <td>76</td>\n      <td>78</td>\n      <td>75</td>\n    </tr>\n    <tr>\n      <th>...</th>\n      <td>...</td>\n      <td>...</td>\n      <td>...</td>\n      <td>...</td>\n      <td>...</td>\n      <td>...</td>\n      <td>...</td>\n      <td>...</td>\n      <td>...</td>\n    </tr>\n    <tr>\n      <th>995</th>\n      <td>female</td>\n      <td>group E</td>\n      <td>master's degree</td>\n      <td>standard</td>\n      <td>completed</td>\n      <td>group10</td>\n      <td>88</td>\n      <td>99</td>\n      <td>95</td>\n    </tr>\n    <tr>\n      <th>996</th>\n      <td>male</td>\n      <td>group C</td>\n      <td>high school</td>\n      <td>free/reduced</td>\n      <td>none</td>\n      <td>group10</td>\n      <td>62</td>\n      <td>55</td>\n      <td>55</td>\n    </tr>\n    <tr>\n      <th>997</th>\n      <td>female</td>\n      <td>group C</td>\n      <td>high school</td>\n      <td>free/reduced</td>\n      <td>completed</td>\n      <td>group10</td>\n      <td>59</td>\n      <td>71</td>\n      <td>65</td>\n    </tr>\n    <tr>\n      <th>998</th>\n      <td>female</td>\n      <td>group D</td>\n      <td>some college</td>\n      <td>standard</td>\n      <td>completed</td>\n      <td>group10</td>\n      <td>68</td>\n      <td>78</td>\n      <td>77</td>\n    </tr>\n    <tr>\n      <th>999</th>\n      <td>female</td>\n      <td>group D</td>\n      <td>some college</td>\n      <td>free/reduced</td>\n      <td>none</td>\n      <td>group10</td>\n      <td>77</td>\n      <td>86</td>\n      <td>86</td>\n    </tr>\n  </tbody>\n</table>\n<p>1000 rows × 9 columns</p>\n</div>"
     },
     "execution_count": 196,
     "metadata": {},
     "output_type": "execute_result"
    }
   ],
   "source": [
    "Data = Data.rename(columns={'parental level of education' : 'education', 'test preparation course' : 'test preparation'})\n",
    "Data"
   ]
  },
  {
   "cell_type": "markdown",
   "metadata": {},
   "source": [
    "**Зафиксируем минимальный балл для сдачи экзамена**"
   ]
  },
  {
   "cell_type": "code",
   "execution_count": 197,
   "metadata": {},
   "outputs": [],
   "source": [
    "passmark = 50"
   ]
  },
  {
   "cell_type": "markdown",
   "metadata": {},
   "source": [
    "**Задание 10. Ответьте на вопросы:**\n",
    "    * Какая доля студентов сдала экзамен по математике (passmark >= 50)?\n",
    "    * Какая доля студентов, проходивших курс подготовки к экзамену, сдала экзамен по математике?\n",
    "    * Какая доля женщин, не проходивших курс подготовки к экзамену, не сдала экзамен по математике? "
   ]
  },
  {
   "cell_type": "code",
   "execution_count": 198,
   "metadata": {},
   "outputs": [
    {
     "data": {
      "text/plain": "0.865"
     },
     "execution_count": 198,
     "metadata": {},
     "output_type": "execute_result"
    }
   ],
   "source": [
    "Data[Data['math score'] >= passmark]['math score'].count()/Data['math score'].count()"
   ]
  },
  {
   "cell_type": "code",
   "execution_count": 199,
   "outputs": [
    {
     "name": "stderr",
     "output_type": "stream",
     "text": [
      "C:\\Users\\balk0n\\AppData\\Local\\Temp\\ipykernel_11508\\1216721368.py:1: UserWarning: Boolean Series key will be reindexed to match DataFrame index.\n",
      "  Data[Data['math score'] >= passmark][Data['test preparation'] == 'completed']['math score'].count()/Data[Data['test preparation'] == 'completed']['math score'].count()\n"
     ]
    },
    {
     "data": {
      "text/plain": "0.9217877094972067"
     },
     "execution_count": 199,
     "metadata": {},
     "output_type": "execute_result"
    }
   ],
   "source": [
    "Data[Data['math score'] >= passmark][Data['test preparation'] == 'completed']['math score'].count()/Data[Data['test preparation'] == 'completed']['math score'].count()"
   ],
   "metadata": {
    "collapsed": false,
    "pycharm": {
     "name": "#%%\n"
    }
   }
  },
  {
   "cell_type": "code",
   "execution_count": 200,
   "outputs": [
    {
     "name": "stderr",
     "output_type": "stream",
     "text": [
      "C:\\Users\\balk0n\\AppData\\Local\\Temp\\ipykernel_11508\\1590664195.py:1: UserWarning: Boolean Series key will be reindexed to match DataFrame index.\n",
      "  Data[Data['gender'] == 'female'][Data['test preparation'] == 'none'][Data['math score'] < passmark]['math score'].count()/Data[Data['gender'] == 'female'][Data['test preparation'] == 'none']['math score'].count()\n"
     ]
    },
    {
     "data": {
      "text/plain": "0.20958083832335328"
     },
     "execution_count": 200,
     "metadata": {},
     "output_type": "execute_result"
    }
   ],
   "source": [
    "Data[Data['gender'] == 'female'][Data['test preparation'] == 'none'][Data['math score'] < passmark]['math score'].count()/Data[Data['gender'] == 'female'][Data['test preparation'] == 'none']['math score'].count()"
   ],
   "metadata": {
    "collapsed": false,
    "pycharm": {
     "name": "#%%\n"
    }
   }
  },
  {
   "cell_type": "markdown",
   "metadata": {},
   "source": [
    "**Задание 11. С помощью groupby выполните задания ниже. Также выведите время выполнения каждого из заданий.**\n",
    "    * Для каждой этнической группы выведите средний балл за экзамен по чтению\n",
    "    * Для каждого уровня образования выведите минимальный балл за экзамен по письму"
   ]
  },
  {
   "cell_type": "code",
   "execution_count": 201,
   "metadata": {},
   "outputs": [
    {
     "name": "stdout",
     "output_type": "stream",
     "text": [
      "CPU times: total: 31.2 ms\n",
      "Wall time: 2 ms\n"
     ]
    },
    {
     "data": {
      "text/plain": "race/ethnicity\ngroup A    64.674157\ngroup B    67.352632\ngroup C    69.103448\ngroup D    70.030534\ngroup E    73.028571\nName: reading score, dtype: float64"
     },
     "execution_count": 201,
     "metadata": {},
     "output_type": "execute_result"
    }
   ],
   "source": [
    "%%time\n",
    "Data.groupby('race/ethnicity')['reading score'].mean()"
   ]
  },
  {
   "cell_type": "code",
   "execution_count": 202,
   "outputs": [
    {
     "name": "stdout",
     "output_type": "stream",
     "text": [
      "CPU times: total: 31.2 ms\n",
      "Wall time: 996 µs\n"
     ]
    },
    {
     "data": {
      "text/plain": "education\nassociate's degree    35\nbachelor's degree     38\nhigh school           15\nmaster's degree       46\nsome college          19\nsome high school      10\nName: writing score, dtype: int64"
     },
     "execution_count": 202,
     "metadata": {},
     "output_type": "execute_result"
    }
   ],
   "source": [
    "%%time\n",
    "Data.groupby('education')['writing score'].min()"
   ],
   "metadata": {
    "collapsed": false,
    "pycharm": {
     "name": "#%%\n"
    }
   }
  },
  {
   "cell_type": "markdown",
   "metadata": {},
   "source": [
    "**Задание 12. Выполните задание 11 с помощью циклов. Сравните время выполнения.**"
   ]
  },
  {
   "cell_type": "code",
   "execution_count": 203,
   "metadata": {},
   "outputs": [
    {
     "name": "stdout",
     "output_type": "stream",
     "text": [
      "mean for group E = 73.02857142857142\n",
      "mean for group C = 69.10344827586206\n",
      "mean for group A = 64.67415730337079\n",
      "mean for group D = 70.03053435114504\n",
      "mean for group B = 67.35263157894737\n",
      "CPU times: total: 0 ns\n",
      "Wall time: 8 ms\n"
     ]
    }
   ],
   "source": [
    "%%time\n",
    "for x in set(Data['race/ethnicity']):\n",
    "    count = 0\n",
    "    sum = 0\n",
    "    for y in Data[Data['race/ethnicity'] == x]['reading score']:\n",
    "        count += 1\n",
    "        sum += y\n",
    "    print(\"mean for\", x,\"=\", sum/count)"
   ]
  },
  {
   "cell_type": "code",
   "execution_count": 204,
   "outputs": [
    {
     "name": "stdout",
     "output_type": "stream",
     "text": [
      "min writing score for high school is 15\n",
      "min writing score for some high school is 10\n",
      "min writing score for associate's degree is 35\n",
      "min writing score for master's degree is 46\n",
      "min writing score for bachelor's degree is 38\n",
      "min writing score for some college is 19\n",
      "CPU times: total: 15.6 ms\n",
      "Wall time: 5 ms\n"
     ]
    }
   ],
   "source": [
    "%%time\n",
    "for x in set(Data['education']):\n",
    "    min = 100\n",
    "    for y in Data[Data['education'] == x]['writing score']:\n",
    "        if y < min:\n",
    "            min = y\n",
    "    print(\"min writing score for\", x, 'is', min)"
   ],
   "metadata": {
    "collapsed": false,
    "pycharm": {
     "name": "#%%\n"
    }
   }
  },
  {
   "cell_type": "markdown",
   "metadata": {},
   "source": [
    "**Задание 13. Выведите на экран средние баллы студентов по каждому предмету в зависимости от пола и уровня образования. То есть должно получиться количество групп, равных 2 * (число уровней образования), и для каждой такой группы выыведите средний балл по каждому из предметов.**\n",
    "\n",
    "Это можно сделать с помощью сводных таблиц (pivot_table):\n",
    "\n",
    "https://www.kaggle.com/kamilpolak/tutorial-how-to-use-pivot-table-in-pandas"
   ]
  },
  {
   "cell_type": "code",
   "execution_count": 205,
   "metadata": {},
   "outputs": [
    {
     "data": {
      "text/plain": "                           math score  reading score  writing score\ngender education                                                   \nfemale associate's degree   65.250000      74.120690      74.000000\n       bachelor's degree    68.349206      77.285714      78.380952\n       high school          59.351064      68.202128      66.691489\n       master's degree      66.500000      76.805556      77.638889\n       some college         65.406780      73.550847      74.050847\n       some high school     59.296703      69.109890      68.285714\nmale   associate's degree   70.764151      67.433962      65.405660\n       bachelor's degree    70.581818      68.090909      67.654545\n       high school          64.705882      61.480392      58.539216\n       master's degree      74.826087      73.130435      72.608696\n       some college         69.009259      64.990741      63.148148\n       some high school     67.840909      64.693182      61.375000",
      "text/html": "<div>\n<style scoped>\n    .dataframe tbody tr th:only-of-type {\n        vertical-align: middle;\n    }\n\n    .dataframe tbody tr th {\n        vertical-align: top;\n    }\n\n    .dataframe thead th {\n        text-align: right;\n    }\n</style>\n<table border=\"1\" class=\"dataframe\">\n  <thead>\n    <tr style=\"text-align: right;\">\n      <th></th>\n      <th></th>\n      <th>math score</th>\n      <th>reading score</th>\n      <th>writing score</th>\n    </tr>\n    <tr>\n      <th>gender</th>\n      <th>education</th>\n      <th></th>\n      <th></th>\n      <th></th>\n    </tr>\n  </thead>\n  <tbody>\n    <tr>\n      <th rowspan=\"6\" valign=\"top\">female</th>\n      <th>associate's degree</th>\n      <td>65.250000</td>\n      <td>74.120690</td>\n      <td>74.000000</td>\n    </tr>\n    <tr>\n      <th>bachelor's degree</th>\n      <td>68.349206</td>\n      <td>77.285714</td>\n      <td>78.380952</td>\n    </tr>\n    <tr>\n      <th>high school</th>\n      <td>59.351064</td>\n      <td>68.202128</td>\n      <td>66.691489</td>\n    </tr>\n    <tr>\n      <th>master's degree</th>\n      <td>66.500000</td>\n      <td>76.805556</td>\n      <td>77.638889</td>\n    </tr>\n    <tr>\n      <th>some college</th>\n      <td>65.406780</td>\n      <td>73.550847</td>\n      <td>74.050847</td>\n    </tr>\n    <tr>\n      <th>some high school</th>\n      <td>59.296703</td>\n      <td>69.109890</td>\n      <td>68.285714</td>\n    </tr>\n    <tr>\n      <th rowspan=\"6\" valign=\"top\">male</th>\n      <th>associate's degree</th>\n      <td>70.764151</td>\n      <td>67.433962</td>\n      <td>65.405660</td>\n    </tr>\n    <tr>\n      <th>bachelor's degree</th>\n      <td>70.581818</td>\n      <td>68.090909</td>\n      <td>67.654545</td>\n    </tr>\n    <tr>\n      <th>high school</th>\n      <td>64.705882</td>\n      <td>61.480392</td>\n      <td>58.539216</td>\n    </tr>\n    <tr>\n      <th>master's degree</th>\n      <td>74.826087</td>\n      <td>73.130435</td>\n      <td>72.608696</td>\n    </tr>\n    <tr>\n      <th>some college</th>\n      <td>69.009259</td>\n      <td>64.990741</td>\n      <td>63.148148</td>\n    </tr>\n    <tr>\n      <th>some high school</th>\n      <td>67.840909</td>\n      <td>64.693182</td>\n      <td>61.375000</td>\n    </tr>\n  </tbody>\n</table>\n</div>"
     },
     "execution_count": 205,
     "metadata": {},
     "output_type": "execute_result"
    }
   ],
   "source": [
    "Data.pivot_table(['math score', 'reading score', 'writing score'], columns=['gender','education'], aggfunc= 'mean').transpose()"
   ]
  },
  {
   "cell_type": "markdown",
   "metadata": {
    "_uuid": "3e832cb427c4314582d1953a41b8c78db75e30e3"
   },
   "source": [
    "#### Задание 14. Сколько студентов успешно сдали экзамен по математике?\n",
    "\n",
    "Создайте новый столбец в таблице df под названием Math_PassStatus и запишите в него F, если студент не сдал экзамен по математике (балл за экзамен < passmark), и P иначе.\n",
    "\n",
    "Посчитайте количество студентов, сдавших и не сдавших экзамен по математике.\n",
    "\n",
    "Сделайте аналогичные шаги для экзаменов по чтению и письму."
   ]
  },
  {
   "cell_type": "code",
   "execution_count": 234,
   "metadata": {
    "_uuid": "f43cddb72cc96b30df84bc0de83a4d9170904340"
   },
   "outputs": [
    {
     "data": {
      "text/plain": "P    865\nF    135\nName: Math_PassStatus, dtype: int64"
     },
     "execution_count": 234,
     "metadata": {},
     "output_type": "execute_result"
    }
   ],
   "source": [
    "Data['Math_PassStatus'] = 'F'\n",
    "Data['Reading_PassStatus'] = 'F'\n",
    "Data['Writing_PassStatus'] = 'F'\n",
    "Data.loc[Data['math score'] >= passmark, 'Math_PassStatus'] = 'P'\n",
    "Data.loc[Data['reading score'] >= passmark, 'Reading_PassStatus'] = 'P'\n",
    "Data.loc[Data['writing score'] >= passmark, 'Writing_PassStatus'] = 'P'\n",
    "Data['Math_PassStatus'].value_counts()"
   ]
  },
  {
   "cell_type": "code",
   "execution_count": 235,
   "outputs": [
    {
     "data": {
      "text/plain": "P    910\nF     90\nName: Reading_PassStatus, dtype: int64"
     },
     "execution_count": 235,
     "metadata": {},
     "output_type": "execute_result"
    }
   ],
   "source": [
    "Data['Reading_PassStatus'].value_counts()"
   ],
   "metadata": {
    "collapsed": false,
    "pycharm": {
     "name": "#%%\n"
    }
   }
  },
  {
   "cell_type": "code",
   "execution_count": 236,
   "outputs": [
    {
     "data": {
      "text/plain": "P    886\nF    114\nName: Writing_PassStatus, dtype: int64"
     },
     "execution_count": 236,
     "metadata": {},
     "output_type": "execute_result"
    }
   ],
   "source": [
    "Data['Writing_PassStatus'].value_counts()"
   ],
   "metadata": {
    "collapsed": false,
    "pycharm": {
     "name": "#%%\n"
    }
   }
  },
  {
   "cell_type": "markdown",
   "metadata": {
    "_uuid": "b753c90914ee65501e2ed263ea614d88a381c472"
   },
   "source": [
    "#### Задание 15. Сколько студентов успешно сдали все экзамены?\n",
    "\n",
    "Создайте столбец OverAll_PassStatus и запишите в него для каждого студента 'F', если студент не сдал хотя бы один из трех экзаменов, а иначе 'P'.\n",
    "\n",
    "Посчитайте количество студентов, которые сдали все экзамены."
   ]
  },
  {
   "cell_type": "code",
   "execution_count": 242,
   "metadata": {
    "_uuid": "e98f895a022b967cab801447b616222439fe9d84"
   },
   "outputs": [
    {
     "data": {
      "text/plain": "P    812\nF    188\nName: OverAll_PassStatus, dtype: int64"
     },
     "execution_count": 242,
     "metadata": {},
     "output_type": "execute_result"
    }
   ],
   "source": [
    "Data['OverAll_PassStatus'] = 'P'\n",
    "Data.loc[Data['Math_PassStatus'] == 'F', 'OverAll_PassStatus'] = 'F'\n",
    "Data.loc[Data['Reading_PassStatus'] == 'F', 'OverAll_PassStatus'] = 'F'\n",
    "Data.loc[Data['Writing_PassStatus'] == 'F', 'OverAll_PassStatus'] = 'F'\n",
    "Data['OverAll_PassStatus'].value_counts()"
   ]
  },
  {
   "cell_type": "markdown",
   "metadata": {
    "_uuid": "3af9c6cb4cbfff66d4ae09509f10b8b6ce33075d"
   },
   "source": [
    "#### Задание 16. Переведем баллы в оценки\n",
    "\n",
    "### Система перевода баллов в оценки\n",
    "####    больше 90 = A\n",
    "####      80-90 = B\n",
    "####      70-80 = C\n",
    "####      60-70 = D\n",
    "####      50-60 = E\n",
    "####    меньше 50 = F (Fail)\n",
    "\n",
    "Создайте вспомогательную функцию, которая будет по среднему баллу за три экзамена выставлять оценку студенту по данным выше критериям.\n",
    "\n",
    "Создайте столбец Grade и запишите в него оценку каждого студента.\n",
    "\n",
    "Выведите количество студентов, получивших каждую из оценок.\n",
    "\n",
    "**В случае, если средний балл попадает на границу между оценками (т.е. равен ровно 60, 70 или 80 баллов), вы можете интерпретировать условие на своё усмотрение (т.е. можете поставить за 60 баллов оценку D, а можете - E).**"
   ]
  },
  {
   "cell_type": "code",
   "execution_count": 259,
   "metadata": {
    "_uuid": "04707c5be4237020b906d2ac705a0db3d620506f"
   },
   "outputs": [
    {
     "data": {
      "text/plain": "C    261\nD    256\nE    182\nB    146\nF    103\nA     52\nName: Grade, dtype: int64"
     },
     "execution_count": 259,
     "metadata": {},
     "output_type": "execute_result"
    }
   ],
   "source": [
    "def GetGrade(average_mark):\n",
    "    if average_mark < 50:\n",
    "        return 'F'\n",
    "    if average_mark < 60:\n",
    "        return 'E'\n",
    "    if average_mark < 70:\n",
    "        return 'D'\n",
    "    if average_mark < 80:\n",
    "        return 'C'\n",
    "    if average_mark < 90:\n",
    "        return 'B'\n",
    "    return 'A'\n",
    "\n",
    "Data['Grade'] = Data.mean(axis=1, numeric_only=True)\n",
    "Data['Grade'] = Data['Grade'].apply(lambda x: GetGrade(x))\n",
    "Data['Grade'].value_counts()"
   ]
  }
 ],
 "metadata": {
  "kernelspec": {
   "display_name": "Python 3 (ipykernel)",
   "language": "python",
   "name": "python3"
  },
  "language_info": {
   "codemirror_mode": {
    "name": "ipython",
    "version": 3
   },
   "file_extension": ".py",
   "mimetype": "text/x-python",
   "name": "python",
   "nbconvert_exporter": "python",
   "pygments_lexer": "ipython3",
   "version": "3.7.9"
  }
 },
 "nbformat": 4,
 "nbformat_minor": 1
}